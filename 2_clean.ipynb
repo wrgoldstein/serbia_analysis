{
 "cells": [
  {
   "cell_type": "code",
   "execution_count": 21,
   "metadata": {},
   "outputs": [],
   "source": [
    "import numpy as np\n",
    "import pandas as pd\n",
    "\n",
    "%matplotlib inline"
   ]
  },
  {
   "cell_type": "code",
   "execution_count": 36,
   "metadata": {},
   "outputs": [],
   "source": [
    "all_turnover = pd.read_csv('all_turnover.csv', na_values=['n.a.'])\n",
    "all_turnover_clean = all_turnover.dropna()\n",
    "k = 'BvD ID number'\n",
    "\n",
    "vc = all_turnover_clean[k].value_counts()\n",
    "turnover_okay_ids = vc[vc > 8].index\n",
    "\n",
    "del all_turnover_clean\n",
    "del vc\n",
    "\n",
    "PEP_ids = pd.read_csv('PEP.csv')"
   ]
  },
  {
   "cell_type": "code",
   "execution_count": 30,
   "metadata": {},
   "outputs": [],
   "source": [
    "all_ppe = pd.read_csv('all_ppe.csv', na_values=['n.a.'])\n",
    "all_ppe_clean = all_ppe.dropna()\n",
    "k = 'BvD ID number'\n",
    "\n",
    "vc = all_ppe_clean[k].value_counts()\n",
    "ppe_okay_ids = vc[vc > 8].index\n",
    "\n",
    "del all_ppe\n",
    "del all_ppe_clean\n",
    "del vc"
   ]
  },
  {
   "cell_type": "code",
   "execution_count": 46,
   "metadata": {},
   "outputs": [],
   "source": [
    "all_employees = pd.read_csv('all_employees.csv', na_values=['n.a.'])\n",
    "all_employees_clean = all_employees.dropna()\n",
    "k = 'BvD ID number'\n",
    "\n",
    "vc = all_employees_clean[k].value_counts()\n",
    "employees_okay_ids = vc[vc > 8].index\n",
    "\n",
    "del all_employees_clean\n",
    "del vc"
   ]
  },
  {
   "cell_type": "code",
   "execution_count": 47,
   "metadata": {},
   "outputs": [],
   "source": [
    "okay_ids = set(employees_okay_ids)\\\n",
    "            .intersection(turnover_okay_ids)"
   ]
  },
  {
   "cell_type": "code",
   "execution_count": 45,
   "metadata": {},
   "outputs": [
    {
     "data": {
      "text/plain": [
       "0.9987858772059699"
      ]
     },
     "execution_count": 45,
     "metadata": {},
     "output_type": "execute_result"
    }
   ],
   "source": [
    "a = all_turnover_clean[all_turnover_clean.turnover==2017].value.sum()\n",
    "b = all_turnover[all_turnover.turnover==2017].value.sum()\n",
    "\n",
    "# 99.63% of all turnover from 2017 is from represented companies, so it\n",
    "# should be okay to use included companies to calculate market share\n",
    "a/b"
   ]
  },
  {
   "cell_type": "code",
   "execution_count": 41,
   "metadata": {},
   "outputs": [
    {
     "data": {
      "text/plain": [
       "103856294.0"
      ]
     },
     "execution_count": 41,
     "metadata": {},
     "output_type": "execute_result"
    }
   ],
   "source": []
  },
  {
   "cell_type": "code",
   "execution_count": 60,
   "metadata": {},
   "outputs": [],
   "source": [
    "mapper = {'employees': 'year', 'turnover': 'year', 'value': 'employees'}\n",
    "usable_employee_data = all_employees[all_employees[k].isin(okay_ids)].rename(mapper, axis=1)\n",
    "\n",
    "mapper = {'employees': 'year', 'turnover': 'year', 'value': 'turnover'}\n",
    "usable_turnover_data = all_turnover[all_turnover[k].isin(okay_ids)].rename(mapper, axis=1)"
   ]
  },
  {
   "cell_type": "code",
   "execution_count": 65,
   "metadata": {},
   "outputs": [],
   "source": [
    "joined = pd.merge(usable_employee_data, usable_turnover_data, on=['Company name', 'BvD ID number', 'year'])\n",
    "\n",
    "# Most companies do not yet have 2018 data\n",
    "joined = joined[joined.year < 2018]"
   ]
  },
  {
   "cell_type": "code",
   "execution_count": 67,
   "metadata": {},
   "outputs": [],
   "source": [
    "joined.to_csv('data/cleaned.csv')"
   ]
  },
  {
   "cell_type": "code",
   "execution_count": null,
   "metadata": {},
   "outputs": [],
   "source": []
  }
 ],
 "metadata": {
  "kernelspec": {
   "display_name": "Python 3",
   "language": "python",
   "name": "python3"
  },
  "language_info": {
   "codemirror_mode": {
    "name": "ipython",
    "version": 3
   },
   "file_extension": ".py",
   "mimetype": "text/x-python",
   "name": "python",
   "nbconvert_exporter": "python",
   "pygments_lexer": "ipython3",
   "version": "3.7.2"
  }
 },
 "nbformat": 4,
 "nbformat_minor": 2
}
