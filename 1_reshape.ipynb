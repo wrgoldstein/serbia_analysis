{
 "cells": [
  {
   "cell_type": "code",
   "execution_count": 35,
   "metadata": {},
   "outputs": [],
   "source": [
    "import numpy as np\n",
    "import pandas as pd\n",
    "from glob import glob\n",
    "\n",
    "import warnings\n",
    "warnings.filterwarnings('ignore')"
   ]
  },
  {
   "cell_type": "code",
   "execution_count": 38,
   "metadata": {},
   "outputs": [],
   "source": [
    "# The files were downloaded in two sets of ~30 batches owing to\n",
    "# limitations of the Orbis interface. The first set contains\n",
    "# information relating to employee counts. The second set contains\n",
    "# other financial data for the same companies.\n",
    "\n",
    "# Reshape and combine all employee datasets\n",
    "\n",
    "filenames = glob('serbia/employees*')\n",
    "\n",
    "to_concatenate = []\n",
    "\n",
    "for filename in filenames:\n",
    "    df = pd.read_excel(filename, 'Results')\n",
    "    \n",
    "    value_vars = [col for col in df.columns if 'employee' in col]\n",
    "    id_vars = ['Company name', 'BvD ID number']\n",
    "    \n",
    "    melted = pd.melt(df, id_vars, value_vars)\n",
    "    \n",
    "    melted['variable'] = melted.variable.str.replace('Number of employees\\n', '')\n",
    "    melted = melted.rename({'variable': 'employees'}, axis='columns')\n",
    "    \n",
    "    to_concatenate.append(melted)\n",
    "    \n",
    "employees_all = pd.concat(to_concatenate)\n",
    "employees_all.to_csv('serbia/employees_all.csv', index=False)"
   ]
  },
  {
   "cell_type": "raw",
   "metadata": {},
   "source": [
    "# Note for later on how to construct TFP\n",
    "\n",
    "log(yit) = µi + µt + αks*log(kit−1) + αns*log(nit) + εit, where\n",
    "\n",
    "(a) yit is real sales\n",
    "(b) kit−1 is our constructed capital stock (note that in Compustat capital is recorded\n",
    "as end of period, so capital used in production is kit−1)\n",
    "(c) nit is employment\n",
    "(d) µi is a firm fixed effect, meant to capture permanent differences across firms\n",
    "(e) µt is a time fixed effect, meant to capture aggregate changes common to all firms\n",
    "\n",
    "# Note for later on the Hirschman Index:\n",
    "\n",
    "1. Calculate market share for each firm\n",
    "2. Square each market share number (as an integer not a decimal) and sum"
   ]
  },
  {
   "cell_type": "code",
   "execution_count": 44,
   "metadata": {},
   "outputs": [],
   "source": [
    "filenames = glob('serbia/turnover*')\n",
    "\n",
    "\n",
    "to_concatenate = []\n",
    "\n",
    "for filename in filenames:\n",
    "    df = pd.read_excel(filename, 'Results')\n",
    "    \n",
    "    value_vars = [col for col in df.columns if 'employee' in col]\n",
    "    id_vars = ['Company name', 'BvD ID number']\n",
    "    \n",
    "    melted = pd.melt(df, id_vars, value_vars)\n",
    "    \n",
    "    melted['variable'] = melted.variable.str.extract('.*(\\d{4})')\n",
    "    melted = melted.rename({'variable': 'employees'}, axis='columns')\n",
    "    \n",
    "    to_concatenate.append(melted)\n",
    "    \n",
    "employees_all = pd.concat(to_concatenate)\n",
    "employees_all.to_csv('serbia/employees_all.csv', index=False)"
   ]
  },
  {
   "cell_type": "code",
   "execution_count": 47,
   "metadata": {},
   "outputs": [],
   "source": [
    "filenames = glob('serbia/turnover*')\n",
    "df = pd.read_excel('serbia/turnover_100000.xlsx', 'Results')"
   ]
  },
  {
   "cell_type": "code",
   "execution_count": 57,
   "metadata": {},
   "outputs": [],
   "source": [
    "to_concatenate_turnover = []\n",
    "to_concatenate_ppe = []\n",
    "\n",
    "for filename in glob('serbia/turnover*'):\n",
    "    \n",
    "    df = pd.read_excel(filename, 'Results')\n",
    "\n",
    "    id_vars = ['Company name', 'BvD ID number', 'Date of incorporation']\n",
    "    \n",
    "    value_vars = [col for col in df.columns if 'Turnover' in col]\n",
    "    melted = pd.melt(df, id_vars, value_vars)\n",
    "    melted['variable'] = melted.variable.str.extract('.*(\\d{4})')\n",
    "    melted = melted.rename({'variable': 'turnover'}, axis='columns')\n",
    "    \n",
    "    to_concatenate_turnover.append(melted)\n",
    "    \n",
    "    value_vars = [col for col in df.columns if 'Property' in col]\n",
    "    melted = pd.melt(df, id_vars, value_vars)\n",
    "    melted['variable'] = melted.variable.str.extract('.*(\\d{4})')\n",
    "    melted = melted.rename({'variable': 'ppe'}, axis='columns')\n",
    "    \n",
    "    to_concatenate_ppe.append(melted)\n",
    "\n",
    "turnover_all = pd.concat(to_concatenate_turnover)\n",
    "ppe_all = pd.concat(to_concatenate_ppe)\n",
    "\n",
    "turnover_all.to_csv('serbia/turnover_all.csv', index=False)\n",
    "ppe_all.to_csv('serbia/ppe_all.csv', index=False)"
   ]
  }
 ],
 "metadata": {
  "kernelspec": {
   "display_name": "Python 3",
   "language": "python",
   "name": "python3"
  },
  "language_info": {
   "codemirror_mode": {
    "name": "ipython",
    "version": 3
   },
   "file_extension": ".py",
   "mimetype": "text/x-python",
   "name": "python",
   "nbconvert_exporter": "python",
   "pygments_lexer": "ipython3",
   "version": "3.7.2"
  }
 },
 "nbformat": 4,
 "nbformat_minor": 2
}
